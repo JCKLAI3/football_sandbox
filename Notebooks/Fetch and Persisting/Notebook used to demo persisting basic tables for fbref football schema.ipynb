{
 "cells": [
  {
   "cell_type": "markdown",
   "metadata": {},
   "source": [
    "In this notebook, I'll look to persist the basic \"enum tables\" to my fbref football schema db. These tables include:\n",
    "* country\n",
    "* seasons\n",
    "* teams\n",
    "* competitions\n",
    "\n",
    "# Imports"
   ]
  },
  {
   "cell_type": "code",
   "execution_count": 1,
   "metadata": {},
   "outputs": [],
   "source": [
    "import os\n",
    "os.chdir(\"../../\")"
   ]
  },
  {
   "cell_type": "code",
   "execution_count": 2,
   "metadata": {},
   "outputs": [],
   "source": [
    "import pandas as pd\n",
    "from src.fbref.fbref_class import FBref\n",
    "from src.utility.sql.fetch_and_persist import (\n",
    "    create_db_engine,\n",
    "    query_db,\n",
    "    persist_to_db,\n",
    ")"
   ]
  },
  {
   "cell_type": "markdown",
   "metadata": {},
   "source": [
    "# Create DB connection"
   ]
  },
  {
   "cell_type": "code",
   "execution_count": 3,
   "metadata": {},
   "outputs": [],
   "source": [
    "engine = create_db_engine(\n",
    "    db_user = os.environ.get(\"POSTGRES_USER\"), \n",
    "    db_password = os.environ.get(\"POSTGRES_PASS\"), \n",
    "    db_host = os.environ.get(\"POSTGRES_HOST\"), \n",
    "    db_port = os.environ.get(\"POSTGRES_PORT\"), \n",
    "    db_name = os.environ.get(\"POSTGRES_DB\")\n",
    ")"
   ]
  },
  {
   "cell_type": "markdown",
   "metadata": {},
   "source": [
    "# Fetch and persist tables\n",
    "\n",
    "### Instantiate fbref class"
   ]
  },
  {
   "cell_type": "code",
   "execution_count": 4,
   "metadata": {},
   "outputs": [],
   "source": [
    "fb = FBref()"
   ]
  },
  {
   "cell_type": "markdown",
   "metadata": {},
   "source": [
    "### Get country df"
   ]
  },
  {
   "cell_type": "code",
   "execution_count": 5,
   "metadata": {},
   "outputs": [],
   "source": [
    "player_standard_df = fb.get_big5_player_stats(table_type='standard', season_name='2022-2023')"
   ]
  },
  {
   "cell_type": "code",
   "execution_count": 6,
   "metadata": {},
   "outputs": [],
   "source": [
    "country_list = player_standard_df.sort_values(by=['country'])['country'].unique()\n",
    "country_df = pd.DataFrame(country_list, columns=['country_code'])"
   ]
  },
  {
   "cell_type": "markdown",
   "metadata": {},
   "source": [
    "persist country df"
   ]
  },
  {
   "cell_type": "code",
   "execution_count": 7,
   "metadata": {},
   "outputs": [
    {
     "name": "stdout",
     "output_type": "stream",
     "text": [
      "Data Persisted\n"
     ]
    }
   ],
   "source": [
    "# country df\n",
    "persist_to_db(\n",
    "    df_to_persist = country_df, \n",
    "    table_name = 'country',\n",
    "    schema_name = 'fbref',\n",
    "    engine = engine\n",
    ")"
   ]
  },
  {
   "cell_type": "markdown",
   "metadata": {},
   "source": [
    "### Get seasons df\n",
    "\n",
    "Let's get comeptition links for the top five leageus where the competition links are used as input to get seasons for that specific competition"
   ]
  },
  {
   "cell_type": "code",
   "execution_count": 8,
   "metadata": {},
   "outputs": [],
   "source": [
    "big5_df = fb.get_big_5_leagues()\n",
    "\n",
    "competition_link_dict = dict(\n",
    "    zip(\n",
    "        big5_df['Competition Name'],\n",
    "        big5_df['competition_link']\n",
    "    )\n",
    ")"
   ]
  },
  {
   "cell_type": "markdown",
   "metadata": {},
   "source": [
    "Create season df using seasons from Premier League"
   ]
  },
  {
   "cell_type": "code",
   "execution_count": 9,
   "metadata": {},
   "outputs": [],
   "source": [
    "prem_seasons_df = fb.get_competition_seasons(competition_link_dict['Premier League'])\n",
    "season_list = list(prem_seasons_df.Season)\n",
    "\n",
    "season_df = pd.DataFrame(season_list, columns=['season_name'])"
   ]
  },
  {
   "cell_type": "markdown",
   "metadata": {},
   "source": [
    "persist seasons df"
   ]
  },
  {
   "cell_type": "code",
   "execution_count": 10,
   "metadata": {},
   "outputs": [
    {
     "name": "stdout",
     "output_type": "stream",
     "text": [
      "Data Persisted\n"
     ]
    }
   ],
   "source": [
    "# season df\n",
    "persist_to_db(\n",
    "    df_to_persist = season_df, \n",
    "    table_name = 'seasons',\n",
    "    schema_name = 'fbref',\n",
    "    engine = engine\n",
    ")\n"
   ]
  },
  {
   "cell_type": "markdown",
   "metadata": {},
   "source": [
    "### Get teams df\n",
    "\n",
    "Get teams from top five countries"
   ]
  },
  {
   "cell_type": "code",
   "execution_count": 11,
   "metadata": {},
   "outputs": [],
   "source": [
    "teams_df = pd.concat(\n",
    "    [fb.get_teams_per_country(country) for country in [\"England\", \"France\", \"Germany\", \"Spain\", \"Italy\"] ]\n",
    ")"
   ]
  },
  {
   "cell_type": "code",
   "execution_count": 12,
   "metadata": {},
   "outputs": [],
   "source": [
    "teams_df = (\n",
    "    teams_df\n",
    "    .rename(\n",
    "        columns={\n",
    "            \"Gender\" : \"gender\",\n",
    "            \"Squad\" : \"team_name\",\n",
    "            \"team_id\" : \"team_fb_ref_id\",\n",
    "        }\n",
    "    )\n",
    ")[\n",
    "    [\n",
    "        'gender', \n",
    "        'team_name', \n",
    "        'team_fb_ref_id'\n",
    "    ]\n",
    "]"
   ]
  },
  {
   "cell_type": "markdown",
   "metadata": {},
   "source": [
    "persist teams df"
   ]
  },
  {
   "cell_type": "code",
   "execution_count": 13,
   "metadata": {},
   "outputs": [
    {
     "name": "stdout",
     "output_type": "stream",
     "text": [
      "Data Persisted\n"
     ]
    }
   ],
   "source": [
    "# teams df\n",
    "persist_to_db(\n",
    "    df_to_persist = teams_df, \n",
    "    table_name = 'teams',\n",
    "    schema_name = 'fbref',\n",
    "    engine = engine\n",
    ")"
   ]
  },
  {
   "cell_type": "markdown",
   "metadata": {},
   "source": [
    "### Get competition df\n",
    "\n",
    "fetch country df from db"
   ]
  },
  {
   "cell_type": "code",
   "execution_count": 14,
   "metadata": {},
   "outputs": [],
   "source": [
    "db_country_df = query_db('SELECT * FROM fbref.country', engine)"
   ]
  },
  {
   "cell_type": "markdown",
   "metadata": {},
   "source": [
    "Prepare comeptition table"
   ]
  },
  {
   "cell_type": "code",
   "execution_count": 15,
   "metadata": {},
   "outputs": [],
   "source": [
    "competition_df = big5_df[big5_df.competition_id.isin(['9', '12', '13', '20', '11'])]\n",
    "\n",
    "competition_df = (\n",
    "    competition_df\n",
    "    # clean country values to codes\n",
    "    .assign(\n",
    "        Country = competition_df.Country.apply(lambda x: x.split(' ')[1])\n",
    "    )\n",
    "    # merge with country df to get country id\n",
    "    .merge(db_country_df, left_on='Country', right_on='country_code')\n",
    "    .rename(\n",
    "        columns = {\n",
    "            'Gender': 'gender',\n",
    "            'Competition Name':'competition_name',\n",
    "            'competition_id':'competition_fb_ref_id', \n",
    "        }\n",
    "    )\n",
    ")\n"
   ]
  },
  {
   "cell_type": "code",
   "execution_count": 16,
   "metadata": {},
   "outputs": [],
   "source": [
    "competition_df = competition_df[\n",
    "    [\n",
    "        'country_id',\n",
    "        'gender',\n",
    "        'competition_name',\n",
    "        'competition_link',\n",
    "        'competition_fb_ref_id', \n",
    "    ]\n",
    "]"
   ]
  },
  {
   "cell_type": "code",
   "execution_count": 17,
   "metadata": {},
   "outputs": [
    {
     "name": "stdout",
     "output_type": "stream",
     "text": [
      "Data Persisted\n"
     ]
    }
   ],
   "source": [
    "# teams df\n",
    "persist_to_db(\n",
    "    df_to_persist = competition_df, \n",
    "    table_name = 'competitions',\n",
    "    schema_name = 'fbref',\n",
    "    engine = engine\n",
    ")"
   ]
  }
 ],
 "metadata": {
  "kernelspec": {
   "display_name": "Python 3 (ipykernel)",
   "language": "python",
   "name": "python3"
  },
  "language_info": {
   "codemirror_mode": {
    "name": "ipython",
    "version": 3
   },
   "file_extension": ".py",
   "mimetype": "text/x-python",
   "name": "python",
   "nbconvert_exporter": "python",
   "pygments_lexer": "ipython3",
   "version": "3.10.8"
  },
  "vscode": {
   "interpreter": {
    "hash": "ac4b18070b19ed169e0a67039eca386504438fcf46055de9c7276880837c7a3c"
   }
  }
 },
 "nbformat": 4,
 "nbformat_minor": 2
}
