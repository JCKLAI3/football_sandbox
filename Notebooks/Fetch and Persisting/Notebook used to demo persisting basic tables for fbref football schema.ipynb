{
 "cells": [
  {
   "cell_type": "markdown",
   "metadata": {},
   "source": [
    "In this notebook, I'll look to persist the basic \"enum tables\" to my fbref football schema db. These tables include:\n",
    "* country\n",
    "* seasons\n",
    "* teams\n",
    "* competitions\n",
    "\n",
    "# Imports"
   ]
  },
  {
   "cell_type": "code",
   "execution_count": 1,
   "metadata": {},
   "outputs": [],
   "source": [
    "import os\n",
    "os.chdir(\"../../\")"
   ]
  },
  {
   "cell_type": "code",
   "execution_count": 2,
   "metadata": {},
   "outputs": [],
   "source": [
    "import pandas as pd\n",
    "from src.fbref.fbref_class import FBref\n",
    "from src.utility.sql.fetch_and_persist import (\n",
    "    create_db_engine,\n",
    "    query_db,\n",
    "    persist_to_db,\n",
    ")"
   ]
  },
  {
   "cell_type": "markdown",
   "metadata": {},
   "source": [
    "# Fetch and persist tables\n",
    "\n",
    "### Instantiate fbref class"
   ]
  },
  {
   "cell_type": "code",
   "execution_count": 3,
   "metadata": {},
   "outputs": [],
   "source": [
    "fb = FBref()"
   ]
  },
  {
   "cell_type": "markdown",
   "metadata": {},
   "source": [
    "### Get country df"
   ]
  },
  {
   "cell_type": "code",
   "execution_count": 4,
   "metadata": {},
   "outputs": [],
   "source": [
    "player_standard_df = fb.get_big5_player_stats(table_type='standard', season_name='2022-2023')"
   ]
  },
  {
   "cell_type": "code",
   "execution_count": 5,
   "metadata": {},
   "outputs": [
    {
     "data": {
      "text/html": [
       "<div>\n",
       "<style scoped>\n",
       "    .dataframe tbody tr th:only-of-type {\n",
       "        vertical-align: middle;\n",
       "    }\n",
       "\n",
       "    .dataframe tbody tr th {\n",
       "        vertical-align: top;\n",
       "    }\n",
       "\n",
       "    .dataframe thead th {\n",
       "        text-align: right;\n",
       "    }\n",
       "</style>\n",
       "<table border=\"1\" class=\"dataframe\">\n",
       "  <thead>\n",
       "    <tr style=\"text-align: right;\">\n",
       "      <th></th>\n",
       "      <th>country_id</th>\n",
       "      <th>country_code</th>\n",
       "    </tr>\n",
       "  </thead>\n",
       "  <tbody>\n",
       "    <tr>\n",
       "      <th>0</th>\n",
       "      <td>1</td>\n",
       "      <td>ALB</td>\n",
       "    </tr>\n",
       "    <tr>\n",
       "      <th>1</th>\n",
       "      <td>2</td>\n",
       "      <td>ALG</td>\n",
       "    </tr>\n",
       "    <tr>\n",
       "      <th>2</th>\n",
       "      <td>3</td>\n",
       "      <td>ANG</td>\n",
       "    </tr>\n",
       "    <tr>\n",
       "      <th>3</th>\n",
       "      <td>4</td>\n",
       "      <td>ARG</td>\n",
       "    </tr>\n",
       "    <tr>\n",
       "      <th>4</th>\n",
       "      <td>5</td>\n",
       "      <td>ARM</td>\n",
       "    </tr>\n",
       "  </tbody>\n",
       "</table>\n",
       "</div>"
      ],
      "text/plain": [
       "   country_id country_code\n",
       "0           1          ALB\n",
       "1           2          ALG\n",
       "2           3          ANG\n",
       "3           4          ARG\n",
       "4           5          ARM"
      ]
     },
     "execution_count": 5,
     "metadata": {},
     "output_type": "execute_result"
    }
   ],
   "source": [
    "# prepare country data for df\n",
    "country_list = player_standard_df.dropna().sort_values(by=['country'])['country'].unique()\n",
    "country_data_dict = {\n",
    "    'country_id' : range(1, len(country_list)+1),\n",
    "    'country_code' : country_list\n",
    "    \n",
    "}\n",
    "\n",
    "# create country df\n",
    "country_df = pd.DataFrame(country_data_dict)\n",
    "\n",
    "country_df.head(5)"
   ]
  },
  {
   "cell_type": "markdown",
   "metadata": {},
   "source": [
    "persist country df"
   ]
  },
  {
   "cell_type": "code",
   "execution_count": 15,
   "metadata": {},
   "outputs": [
    {
     "name": "stdout",
     "output_type": "stream",
     "text": [
      "Data Persisted\n"
     ]
    }
   ],
   "source": [
    "# country df\n",
    "persist_to_db(\n",
    "    df_to_persist = country_df, \n",
    "    table_name = 'country',\n",
    "    schema_name = 'fbref',\n",
    ")"
   ]
  },
  {
   "cell_type": "markdown",
   "metadata": {},
   "source": [
    "### Get seasons df\n",
    "\n",
    "Let's get comeptition links for the top five leageus where the competition links are used as input to get seasons for that specific competition"
   ]
  },
  {
   "cell_type": "code",
   "execution_count": 6,
   "metadata": {},
   "outputs": [],
   "source": [
    "big5_df = fb.get_big_5_leagues()\n",
    "\n",
    "competition_link_dict = dict(\n",
    "    zip(\n",
    "        big5_df['Competition Name'],\n",
    "        big5_df['competition_link']\n",
    "    )\n",
    ")"
   ]
  },
  {
   "cell_type": "markdown",
   "metadata": {},
   "source": [
    "Create season df using seasons from Premier League"
   ]
  },
  {
   "cell_type": "code",
   "execution_count": 7,
   "metadata": {},
   "outputs": [
    {
     "data": {
      "text/html": [
       "<div>\n",
       "<style scoped>\n",
       "    .dataframe tbody tr th:only-of-type {\n",
       "        vertical-align: middle;\n",
       "    }\n",
       "\n",
       "    .dataframe tbody tr th {\n",
       "        vertical-align: top;\n",
       "    }\n",
       "\n",
       "    .dataframe thead th {\n",
       "        text-align: right;\n",
       "    }\n",
       "</style>\n",
       "<table border=\"1\" class=\"dataframe\">\n",
       "  <thead>\n",
       "    <tr style=\"text-align: right;\">\n",
       "      <th></th>\n",
       "      <th>season_id</th>\n",
       "      <th>season_name</th>\n",
       "    </tr>\n",
       "  </thead>\n",
       "  <tbody>\n",
       "    <tr>\n",
       "      <th>0</th>\n",
       "      <td>1</td>\n",
       "      <td>2022-2023</td>\n",
       "    </tr>\n",
       "    <tr>\n",
       "      <th>1</th>\n",
       "      <td>2</td>\n",
       "      <td>2021-2022</td>\n",
       "    </tr>\n",
       "    <tr>\n",
       "      <th>2</th>\n",
       "      <td>3</td>\n",
       "      <td>2020-2021</td>\n",
       "    </tr>\n",
       "    <tr>\n",
       "      <th>3</th>\n",
       "      <td>4</td>\n",
       "      <td>2019-2020</td>\n",
       "    </tr>\n",
       "    <tr>\n",
       "      <th>4</th>\n",
       "      <td>5</td>\n",
       "      <td>2018-2019</td>\n",
       "    </tr>\n",
       "  </tbody>\n",
       "</table>\n",
       "</div>"
      ],
      "text/plain": [
       "   season_id season_name\n",
       "0          1   2022-2023\n",
       "1          2   2021-2022\n",
       "2          3   2020-2021\n",
       "3          4   2019-2020\n",
       "4          5   2018-2019"
      ]
     },
     "execution_count": 7,
     "metadata": {},
     "output_type": "execute_result"
    }
   ],
   "source": [
    "# prepare season df data\n",
    "prem_seasons_df = fb.get_competition_seasons(competition_link_dict['Premier League'])\n",
    "season_list = list(prem_seasons_df.Season)\n",
    "\n",
    "season_data_dict = {\n",
    "    'season_id' : range(1, len(season_list)+1),\n",
    "    'season_name' : season_list\n",
    "}\n",
    "\n",
    "season_df = pd.DataFrame(season_data_dict)\n",
    "season_df.head(5)"
   ]
  },
  {
   "cell_type": "markdown",
   "metadata": {},
   "source": [
    "persist seasons df"
   ]
  },
  {
   "cell_type": "code",
   "execution_count": 16,
   "metadata": {},
   "outputs": [
    {
     "name": "stdout",
     "output_type": "stream",
     "text": [
      "Data Persisted\n"
     ]
    }
   ],
   "source": [
    "# season df\n",
    "persist_to_db(\n",
    "    df_to_persist = season_df, \n",
    "    table_name = 'seasons',\n",
    "    schema_name = 'fbref',\n",
    ")\n"
   ]
  },
  {
   "cell_type": "markdown",
   "metadata": {},
   "source": [
    "### Get teams df\n",
    "\n",
    "Get teams from top five countries"
   ]
  },
  {
   "cell_type": "code",
   "execution_count": 8,
   "metadata": {},
   "outputs": [],
   "source": [
    "teams_df = pd.concat(\n",
    "    [fb.get_teams_per_country(country) for country in [\"England\", \"France\", \"Germany\", \"Spain\", \"Italy\"] ]\n",
    ")"
   ]
  },
  {
   "cell_type": "code",
   "execution_count": 9,
   "metadata": {},
   "outputs": [],
   "source": [
    "teams_df = (\n",
    "    teams_df\n",
    "    .rename(\n",
    "        columns={\n",
    "            \"Gender\" : \"gender\",\n",
    "            \"Squad\" : \"team_name\",\n",
    "        }\n",
    "    )\n",
    ")[\n",
    "    [\n",
    "        'team_id',\n",
    "        'gender', \n",
    "        'team_name',\n",
    "    ]\n",
    "]"
   ]
  },
  {
   "cell_type": "code",
   "execution_count": 10,
   "metadata": {},
   "outputs": [
    {
     "data": {
      "text/html": [
       "<div>\n",
       "<style scoped>\n",
       "    .dataframe tbody tr th:only-of-type {\n",
       "        vertical-align: middle;\n",
       "    }\n",
       "\n",
       "    .dataframe tbody tr th {\n",
       "        vertical-align: top;\n",
       "    }\n",
       "\n",
       "    .dataframe thead th {\n",
       "        text-align: right;\n",
       "    }\n",
       "</style>\n",
       "<table border=\"1\" class=\"dataframe\">\n",
       "  <thead>\n",
       "    <tr style=\"text-align: right;\">\n",
       "      <th></th>\n",
       "      <th>team_id</th>\n",
       "      <th>gender</th>\n",
       "      <th>team_name</th>\n",
       "    </tr>\n",
       "  </thead>\n",
       "  <tbody>\n",
       "    <tr>\n",
       "      <th>0</th>\n",
       "      <td>3b40c85f</td>\n",
       "      <td>M</td>\n",
       "      <td>1874 Northwich FC</td>\n",
       "    </tr>\n",
       "    <tr>\n",
       "      <th>1</th>\n",
       "      <td>912dc50a</td>\n",
       "      <td>M</td>\n",
       "      <td>Abbey Hey FC</td>\n",
       "    </tr>\n",
       "    <tr>\n",
       "      <th>2</th>\n",
       "      <td>d509b648</td>\n",
       "      <td>M</td>\n",
       "      <td>Abbey Rangers FC</td>\n",
       "    </tr>\n",
       "    <tr>\n",
       "      <th>3</th>\n",
       "      <td>d7bd6336</td>\n",
       "      <td>M</td>\n",
       "      <td>Abingdon Town FC</td>\n",
       "    </tr>\n",
       "    <tr>\n",
       "      <th>4</th>\n",
       "      <td>bbbaafbd</td>\n",
       "      <td>M</td>\n",
       "      <td>Abingdon United FC</td>\n",
       "    </tr>\n",
       "    <tr>\n",
       "      <th>...</th>\n",
       "      <td>...</td>\n",
       "      <td>...</td>\n",
       "      <td>...</td>\n",
       "    </tr>\n",
       "    <tr>\n",
       "      <th>174</th>\n",
       "      <td>0f16a817</td>\n",
       "      <td>M</td>\n",
       "      <td>USD Olginatese</td>\n",
       "    </tr>\n",
       "    <tr>\n",
       "      <th>175</th>\n",
       "      <td>bf51962a</td>\n",
       "      <td>M</td>\n",
       "      <td>USD Sestri Levante 1919</td>\n",
       "    </tr>\n",
       "    <tr>\n",
       "      <th>176</th>\n",
       "      <td>af5d5982</td>\n",
       "      <td>M</td>\n",
       "      <td>Venezia FC</td>\n",
       "    </tr>\n",
       "    <tr>\n",
       "      <th>177</th>\n",
       "      <td>2591250b</td>\n",
       "      <td>M</td>\n",
       "      <td>Vicenza Calcio</td>\n",
       "    </tr>\n",
       "    <tr>\n",
       "      <th>178</th>\n",
       "      <td>f201f5dd</td>\n",
       "      <td>M</td>\n",
       "      <td>Virtus Entella</td>\n",
       "    </tr>\n",
       "  </tbody>\n",
       "</table>\n",
       "<p>2543 rows × 3 columns</p>\n",
       "</div>"
      ],
      "text/plain": [
       "      team_id gender                team_name\n",
       "0    3b40c85f      M        1874 Northwich FC\n",
       "1    912dc50a      M             Abbey Hey FC\n",
       "2    d509b648      M         Abbey Rangers FC\n",
       "3    d7bd6336      M         Abingdon Town FC\n",
       "4    bbbaafbd      M       Abingdon United FC\n",
       "..        ...    ...                      ...\n",
       "174  0f16a817      M           USD Olginatese\n",
       "175  bf51962a      M  USD Sestri Levante 1919\n",
       "176  af5d5982      M               Venezia FC\n",
       "177  2591250b      M           Vicenza Calcio\n",
       "178  f201f5dd      M           Virtus Entella\n",
       "\n",
       "[2543 rows x 3 columns]"
      ]
     },
     "execution_count": 10,
     "metadata": {},
     "output_type": "execute_result"
    }
   ],
   "source": [
    "teams_df"
   ]
  },
  {
   "cell_type": "markdown",
   "metadata": {},
   "source": [
    "persist teams df"
   ]
  },
  {
   "cell_type": "code",
   "execution_count": 18,
   "metadata": {},
   "outputs": [
    {
     "name": "stdout",
     "output_type": "stream",
     "text": [
      "Data Persisted\n"
     ]
    }
   ],
   "source": [
    "# teams df\n",
    "persist_to_db(\n",
    "    df_to_persist = teams_df, \n",
    "    table_name = 'teams',\n",
    "    schema_name = 'fbref',\n",
    ")"
   ]
  },
  {
   "cell_type": "markdown",
   "metadata": {},
   "source": [
    "### Get competition df\n",
    "\n",
    "fetch country df from db"
   ]
  },
  {
   "cell_type": "code",
   "execution_count": 20,
   "metadata": {},
   "outputs": [],
   "source": [
    "db_country_df = query_db('SELECT * FROM fbref.country')"
   ]
  },
  {
   "cell_type": "markdown",
   "metadata": {},
   "source": [
    "Prepare comeptition table"
   ]
  },
  {
   "cell_type": "code",
   "execution_count": 21,
   "metadata": {},
   "outputs": [],
   "source": [
    "competition_df = big5_df[big5_df.competition_id.isin(['9', '12', '13', '20', '11'])]\n",
    "\n",
    "competition_df = (\n",
    "    competition_df\n",
    "    # clean country values to codes\n",
    "    .assign(\n",
    "        Country = competition_df.Country.apply(lambda x: x.split(' ')[1])\n",
    "    )\n",
    "    # merge with country df to get country id\n",
    "    .merge(db_country_df, left_on='Country', right_on='country_code')\n",
    "    .rename(\n",
    "        columns = {\n",
    "            'Gender': 'gender',\n",
    "            'Competition Name':'competition_name',\n",
    "        }\n",
    "    )\n",
    "    .astype({'competition_id': \"int32\"})\n",
    ")\n"
   ]
  },
  {
   "cell_type": "code",
   "execution_count": 23,
   "metadata": {},
   "outputs": [
    {
     "data": {
      "text/html": [
       "<div>\n",
       "<style scoped>\n",
       "    .dataframe tbody tr th:only-of-type {\n",
       "        vertical-align: middle;\n",
       "    }\n",
       "\n",
       "    .dataframe tbody tr th {\n",
       "        vertical-align: top;\n",
       "    }\n",
       "\n",
       "    .dataframe thead th {\n",
       "        text-align: right;\n",
       "    }\n",
       "</style>\n",
       "<table border=\"1\" class=\"dataframe\">\n",
       "  <thead>\n",
       "    <tr style=\"text-align: right;\">\n",
       "      <th></th>\n",
       "      <th>competition_id</th>\n",
       "      <th>country_id</th>\n",
       "      <th>gender</th>\n",
       "      <th>competition_name</th>\n",
       "      <th>competition_link</th>\n",
       "    </tr>\n",
       "  </thead>\n",
       "  <tbody>\n",
       "    <tr>\n",
       "      <th>0</th>\n",
       "      <td>9</td>\n",
       "      <td>33</td>\n",
       "      <td>M</td>\n",
       "      <td>Premier League</td>\n",
       "      <td>https://fbref.com/en/comps/9/history/Premier-L...</td>\n",
       "    </tr>\n",
       "    <tr>\n",
       "      <th>1</th>\n",
       "      <td>12</td>\n",
       "      <td>35</td>\n",
       "      <td>M</td>\n",
       "      <td>La Liga</td>\n",
       "      <td>https://fbref.com/en/comps/12/history/La-Liga-...</td>\n",
       "    </tr>\n",
       "    <tr>\n",
       "      <th>2</th>\n",
       "      <td>13</td>\n",
       "      <td>37</td>\n",
       "      <td>M</td>\n",
       "      <td>Ligue 1</td>\n",
       "      <td>https://fbref.com/en/comps/13/history/Ligue-1-...</td>\n",
       "    </tr>\n",
       "    <tr>\n",
       "      <th>3</th>\n",
       "      <td>20</td>\n",
       "      <td>41</td>\n",
       "      <td>M</td>\n",
       "      <td>Fußball-Bundesliga</td>\n",
       "      <td>https://fbref.com/en/comps/20/history/Bundesli...</td>\n",
       "    </tr>\n",
       "    <tr>\n",
       "      <th>4</th>\n",
       "      <td>11</td>\n",
       "      <td>56</td>\n",
       "      <td>M</td>\n",
       "      <td>Serie A</td>\n",
       "      <td>https://fbref.com/en/comps/11/history/Serie-A-...</td>\n",
       "    </tr>\n",
       "  </tbody>\n",
       "</table>\n",
       "</div>"
      ],
      "text/plain": [
       "   competition_id  country_id gender    competition_name  \\\n",
       "0               9          33      M      Premier League   \n",
       "1              12          35      M             La Liga   \n",
       "2              13          37      M             Ligue 1   \n",
       "3              20          41      M  Fußball-Bundesliga   \n",
       "4              11          56      M             Serie A   \n",
       "\n",
       "                                    competition_link  \n",
       "0  https://fbref.com/en/comps/9/history/Premier-L...  \n",
       "1  https://fbref.com/en/comps/12/history/La-Liga-...  \n",
       "2  https://fbref.com/en/comps/13/history/Ligue-1-...  \n",
       "3  https://fbref.com/en/comps/20/history/Bundesli...  \n",
       "4  https://fbref.com/en/comps/11/history/Serie-A-...  "
      ]
     },
     "execution_count": 23,
     "metadata": {},
     "output_type": "execute_result"
    }
   ],
   "source": [
    "competition_df = competition_df[\n",
    "    [\n",
    "        'competition_id',\n",
    "        'country_id',\n",
    "        'gender',\n",
    "        'competition_name',\n",
    "        'competition_link',\n",
    "    ]\n",
    "]\n",
    "competition_df"
   ]
  },
  {
   "cell_type": "code",
   "execution_count": 24,
   "metadata": {},
   "outputs": [
    {
     "name": "stdout",
     "output_type": "stream",
     "text": [
      "Data Persisted\n"
     ]
    }
   ],
   "source": [
    "# teams df\n",
    "persist_to_db(\n",
    "    df_to_persist = competition_df, \n",
    "    table_name = 'competitions',\n",
    "    schema_name = 'fbref',\n",
    ")"
   ]
  }
 ],
 "metadata": {
  "kernelspec": {
   "display_name": "Python 3 (ipykernel)",
   "language": "python",
   "name": "python3"
  },
  "language_info": {
   "codemirror_mode": {
    "name": "ipython",
    "version": 3
   },
   "file_extension": ".py",
   "mimetype": "text/x-python",
   "name": "python",
   "nbconvert_exporter": "python",
   "pygments_lexer": "ipython3",
   "version": "3.10.8"
  },
  "vscode": {
   "interpreter": {
    "hash": "ac4b18070b19ed169e0a67039eca386504438fcf46055de9c7276880837c7a3c"
   }
  }
 },
 "nbformat": 4,
 "nbformat_minor": 2
}
